{
 "cells": [
  {
   "cell_type": "code",
   "execution_count": 1,
   "metadata": {},
   "outputs": [],
   "source": [
    "from splinter import Browser\n",
    "from bs4 import BeautifulSoup\n",
    "import pandas as pd"
   ]
  },
  {
   "cell_type": "markdown",
   "metadata": {},
   "source": [
    "# Windows Users"
   ]
  },
  {
   "cell_type": "code",
   "execution_count": 2,
   "metadata": {},
   "outputs": [],
   "source": [
    " executable_path = {'executable_path': 'chromedriver.exe'}\n",
    " browser = Browser('chrome', **executable_path, headless=False)"
   ]
  },
  {
   "cell_type": "markdown",
   "metadata": {
    "scrolled": true
   },
   "source": [
    "    # initiate a dictionary to store all scraped data\n",
    "mars_data = {}\n",
    "    # Initialize browser\n",
    "    #browser = init_browser()\n",
    "\n",
    "    # Visit the nasa mars site\n",
    "url = 'https://mars.nasa.gov/news/'\n",
    "browser.visit(url)\n",
    "\n",
    "    # Scrape page into soup\n",
    "html = browser.html\n",
    "soup = BeautifulSoup(html, \"html.parser\")\n",
    "\n",
    "    # Find the latest news title and content\n",
    "    # NASA Mars News\n",
    "title = soup.find_all('div', class_='content_title')\n",
    "news_title = title[0].a.text\n",
    "content = soup.find_all('div', class_='article_teaser_body')\n",
    "news_p = content[0].text\n",
    "\n",
    "    #add key:value pair to dictionary\n",
    "mars_data['news_title'] = news_title\n",
    "mars_data['news_content'] = news_p\n",
    "\n",
    "    \n",
    "    # JPL Mars Space Images - Featured Image\n",
    "url = 'https://www.jpl.nasa.gov/spaceimages/?search=&category=Mars'\n",
    "browser.visit(url)\n",
    "\n",
    "html = browser.html\n",
    "soup = BeautifulSoup(html, 'html.parser')\n",
    "article = soup.find('article', class_='carousel_item')\n",
    "href = article['style'].replace(\"background-image: url('\",\"\").replace(\"');\",\"\").strip()\n",
    "url = 'https://www.jpl.nasa.gov'\n",
    "featured_image_url  = url +  href\n",
    "\n",
    "    #add key:value pair to dictionary\n",
    "mars_data['featured_image_url'] = featured_image_url\n",
    "\n",
    "    # Mars Weather\n",
    "url = 'https://twitter.com/marswxreport?lang=en'\n",
    "browser.visit(url)\n",
    "\n",
    "html = browser.html\n",
    "soup = BeautifulSoup(html, 'html.parser')\n",
    "\n",
    "div = soup.find_all('div', class_='js-tweet-text-container')\n",
    "para = div[0].find('p')\n",
    "mars_weather = para.text\n",
    "\n",
    "    #add key:value pair to dictionary\n",
    "mars_data['mars_weather'] = mars_weather\n",
    "\n",
    "# Mars Facts  (using pandas to read in table)\n",
    "\n",
    "    \n",
    "\n",
    "url = \"http://space-facts.com/mars/\"\n",
    "tables = pd.read_html(url)\n",
    "\n",
    "df = tables[0]\n",
    "\n",
    "df.columns = ['Profile', 'Value']\n",
    "df['Profile'] = df['Profile'].str.replace(\":\", \"\")\n",
    "\n",
    "i = 0\n",
    "dataset = []\n",
    "\n",
    "while i < len(df):\n",
    "        datarow = {}\n",
    "        datarow['Profile'] = df['Profile'][i]\n",
    "        datarow['Value'] = df['Value'][i]\n",
    "        dataset.append(datarow)\n",
    "        i += 1\n",
    "\n",
    "# add key:value [list of dictionary of 2 columns of data]\n",
    "mars_data['table'] = dataset\n",
    "\n",
    "\n",
    "    \n",
    "#df.columns = ['Mass Planet Profile', 'Value']\n",
    "#html_table = df.to_html()\n",
    "#html_table = html_table.replace('\\n', '')\n",
    "    #df.to_html('mars_profile.html')\n",
    "\n",
    "    #add key:value pair to dictionary\n",
    "#mars_data['mars_fact'] = html_table\n",
    "    # Mars Hemispheres\n",
    "\n",
    "url = \"https://astrogeology.usgs.gov/search/results?q=hemisphere+enhanced&k1=target&v1=Mars\"\n",
    "browser.visit(url)\n",
    "\n",
    "#for x in range(1,5):\n",
    "    \n",
    "html = browser.html\n",
    "soup = BeautifulSoup(html, 'html.parser')\n",
    "\n",
    "div = soup.find_all('div', class_='description')\n",
    "links = []\n",
    "targeturl = 'https://astrogeology.usgs.gov'\n",
    "for d in div:\n",
    "        h = d.find('a')\n",
    "        link = targeturl + h['href']\n",
    "        links.append(link)\n",
    "    #print(link)\n",
    "\n",
    "hemisphere_image_urls = []\n",
    "\n",
    "img_url = {}\n",
    "\n",
    "for x in range(4):\n",
    "        dict = {}\n",
    "    #print(links[x])\n",
    "        browser.visit(links[x])\n",
    "        html = browser.html\n",
    "        soup = BeautifulSoup(html, 'html.parser')\n",
    "    \n",
    "        h2 = soup.find('h2', class_='title')\n",
    "        div = soup.find('div', class_='downloads')\n",
    "        img_urls = div.find_all('a')\n",
    "    #print(h2.text.replace('Enhanced', ''))\n",
    "    #print(img_urls[2]['href'])\n",
    "        dict['title']= h2.text.replace('Enhanced', '')\n",
    "        dict['img_url'] = img_urls[0]['href']\n",
    "        hemisphere_image_urls.append(dict)\n",
    "\n",
    "#add key:value [list of dictionary] pair to dictionary\n",
    "mars_data['hemisphere_image_urls'] = hemisphere_image_urls\n",
    "\n",
    "    # Get the max temp\n",
    "    #max_temp = forecast_today.find(\"span\", class_=\"temp-max\").text\n",
    "\n",
    "    # Print the min temp\n",
    "    #min_temp = forecast_today.find(\"span\", class_=\"temp-min\").text\n",
    "\n",
    "    # Get current time stamp\n",
    "    #time_stamp = str(datetime.now())\n",
    "\n",
    "    # Store in dictionary\n",
    "    #weather = {\n",
    "    #    \"time\": time_stamp,\n",
    "    #    \"name\": \"Costa Rica\",\n",
    "    #    \"title\":charttitle\n",
    "    #}\n",
    "\n",
    "    # Return results\n",
    "mars_data"
   ]
  },
  {
   "cell_type": "code",
   "execution_count": 3,
   "metadata": {},
   "outputs": [],
   "source": [
    "url = 'https://mars.nasa.gov/news/'\n",
    "browser.visit(url)\n",
    "#html = browser.html\n",
    "#soup = BeautifulSoup(html, 'html.parser')\n",
    "#soup"
   ]
  },
  {
   "cell_type": "code",
   "execution_count": 4,
   "metadata": {},
   "outputs": [
    {
     "name": "stdout",
     "output_type": "stream",
     "text": [
      "Curiosity on the Move Again\n",
      "NASA's Mars Curiosity rover drove about 197 feet over the weekend to a site called Lake Orcadie, pushing its total odometry to over 12 miles.\n"
     ]
    }
   ],
   "source": [
    "\n",
    "\n",
    "html = browser.html\n",
    "soup = BeautifulSoup(html, 'html.parser')\n",
    "\n",
    "#    quotes = soup.find_all('div', class_='content_title')\n",
    "#    i = 0\n",
    "#    for quote in quotes:\n",
    "#        a = quote.find('a')\n",
    "#        i += 1\n",
    "#        print(str(i) + ' - ' + a.text)\n",
    "\n",
    "title = soup.find_all('div', class_='content_title')\n",
    "news_title = title[0].a.text\n",
    "    \n",
    "print(news_title)\n",
    "\n",
    "content = soup.find_all('div', class_='article_teaser_body')\n",
    "news_p = content[0].text\n",
    "print(news_p)"
   ]
  },
  {
   "cell_type": "code",
   "execution_count": 5,
   "metadata": {},
   "outputs": [],
   "source": [
    "#url = 'https://www.jpl.nasa.gov/spaceimages/details.php?id=PIA21723'\n",
    "url = 'https://www.jpl.nasa.gov/spaceimages/?search=&category=Mars'\n",
    "browser.visit(url)"
   ]
  },
  {
   "cell_type": "code",
   "execution_count": 6,
   "metadata": {},
   "outputs": [
    {
     "name": "stdout",
     "output_type": "stream",
     "text": [
      "https://www.jpl.nasa.gov/spaceimages/images/wallpaper/PIA17761-1920x1200.jpg\n"
     ]
    }
   ],
   "source": [
    "html = browser.html\n",
    "soup = BeautifulSoup(html, 'html.parser')\n",
    "article = soup.find('article', class_='carousel_item')\n",
    "href = article['style'].replace(\"background-image: url('\",\"\").replace(\"');\",\"\").strip()\n",
    "#href = article['style']\n",
    "#fig = soup.find('figure', class_='lede')\n",
    "#link = fig.find('a')\n",
    "#href = link['href']\n",
    "#img = div.find('img')\n",
    "#link = img['src']\n",
    "url = 'https://www.jpl.nasa.gov'\n",
    "featured_image_url  = url +  href\n",
    "\n",
    "print(featured_image_url )\n"
   ]
  },
  {
   "cell_type": "code",
   "execution_count": 7,
   "metadata": {},
   "outputs": [
    {
     "name": "stdout",
     "output_type": "stream",
     "text": [
      "Sol 2223 (2018-11-07), high 2C/35F, low -64C/-83F, pressure at 8.50 hPa, daylight 06:18-18:35\n"
     ]
    }
   ],
   "source": [
    "url = 'https://twitter.com/marswxreport?lang=en'\n",
    "browser.visit(url)\n",
    "\n",
    "html = browser.html\n",
    "soup = BeautifulSoup(html, 'html.parser')\n",
    "\n",
    "div = soup.find_all('div', class_='js-tweet-text-container')\n",
    "para = div[0].find('p')\n",
    "\n",
    "\n",
    "mars_weather = para.text\n",
    "print(mars_weather)"
   ]
  },
  {
   "cell_type": "code",
   "execution_count": 8,
   "metadata": {},
   "outputs": [
    {
     "data": {
      "text/plain": [
       "[                      0                              1\n",
       " 0  Equatorial Diameter:                       6,792 km\n",
       " 1       Polar Diameter:                       6,752 km\n",
       " 2                 Mass:  6.42 x 10^23 kg (10.7% Earth)\n",
       " 3                Moons:            2 (Phobos & Deimos)\n",
       " 4       Orbit Distance:       227,943,824 km (1.52 AU)\n",
       " 5         Orbit Period:           687 days (1.9 years)\n",
       " 6  Surface Temperature:                  -153 to 20 °C\n",
       " 7         First Record:              2nd millennium BC\n",
       " 8          Recorded By:           Egyptian astronomers]"
      ]
     },
     "execution_count": 8,
     "metadata": {},
     "output_type": "execute_result"
    }
   ],
   "source": [
    "import pandas as pd\n",
    "\n",
    "url = \"http://space-facts.com/mars/\"\n",
    "tables = pd.read_html(url)\n",
    "\n",
    "tables\n"
   ]
  },
  {
   "cell_type": "code",
   "execution_count": 9,
   "metadata": {},
   "outputs": [
    {
     "data": {
      "text/html": [
       "<div>\n",
       "<style scoped>\n",
       "    .dataframe tbody tr th:only-of-type {\n",
       "        vertical-align: middle;\n",
       "    }\n",
       "\n",
       "    .dataframe tbody tr th {\n",
       "        vertical-align: top;\n",
       "    }\n",
       "\n",
       "    .dataframe thead th {\n",
       "        text-align: right;\n",
       "    }\n",
       "</style>\n",
       "<table border=\"1\" class=\"dataframe\">\n",
       "  <thead>\n",
       "    <tr style=\"text-align: right;\">\n",
       "      <th></th>\n",
       "      <th>Profile</th>\n",
       "      <th>Value</th>\n",
       "    </tr>\n",
       "  </thead>\n",
       "  <tbody>\n",
       "    <tr>\n",
       "      <th>0</th>\n",
       "      <td>Equatorial Diameter</td>\n",
       "      <td>6,792 km</td>\n",
       "    </tr>\n",
       "    <tr>\n",
       "      <th>1</th>\n",
       "      <td>Polar Diameter</td>\n",
       "      <td>6,752 km</td>\n",
       "    </tr>\n",
       "    <tr>\n",
       "      <th>2</th>\n",
       "      <td>Mass</td>\n",
       "      <td>6.42 x 10^23 kg (10.7% Earth)</td>\n",
       "    </tr>\n",
       "    <tr>\n",
       "      <th>3</th>\n",
       "      <td>Moons</td>\n",
       "      <td>2 (Phobos &amp; Deimos)</td>\n",
       "    </tr>\n",
       "    <tr>\n",
       "      <th>4</th>\n",
       "      <td>Orbit Distance</td>\n",
       "      <td>227,943,824 km (1.52 AU)</td>\n",
       "    </tr>\n",
       "    <tr>\n",
       "      <th>5</th>\n",
       "      <td>Orbit Period</td>\n",
       "      <td>687 days (1.9 years)</td>\n",
       "    </tr>\n",
       "    <tr>\n",
       "      <th>6</th>\n",
       "      <td>Surface Temperature</td>\n",
       "      <td>-153 to 20 °C</td>\n",
       "    </tr>\n",
       "    <tr>\n",
       "      <th>7</th>\n",
       "      <td>First Record</td>\n",
       "      <td>2nd millennium BC</td>\n",
       "    </tr>\n",
       "    <tr>\n",
       "      <th>8</th>\n",
       "      <td>Recorded By</td>\n",
       "      <td>Egyptian astronomers</td>\n",
       "    </tr>\n",
       "  </tbody>\n",
       "</table>\n",
       "</div>"
      ],
      "text/plain": [
       "               Profile                          Value\n",
       "0  Equatorial Diameter                       6,792 km\n",
       "1       Polar Diameter                       6,752 km\n",
       "2                 Mass  6.42 x 10^23 kg (10.7% Earth)\n",
       "3                Moons            2 (Phobos & Deimos)\n",
       "4       Orbit Distance       227,943,824 km (1.52 AU)\n",
       "5         Orbit Period           687 days (1.9 years)\n",
       "6  Surface Temperature                  -153 to 20 °C\n",
       "7         First Record              2nd millennium BC\n",
       "8          Recorded By           Egyptian astronomers"
      ]
     },
     "execution_count": 9,
     "metadata": {},
     "output_type": "execute_result"
    }
   ],
   "source": [
    "df = tables[0]\n",
    "df.columns = ['Profile', 'Value']\n",
    "df['Profile'] = df['Profile'].str.replace(\":\", \"\")\n",
    "df"
   ]
  },
  {
   "cell_type": "code",
   "execution_count": 10,
   "metadata": {},
   "outputs": [
    {
     "data": {
      "text/plain": [
       "[{'Profile': 'Equatorial Diameter', 'Value': '6,792 km'},\n",
       " {'Profile': 'Polar Diameter', 'Value': '6,752 km'},\n",
       " {'Profile': 'Mass', 'Value': '6.42 x 10^23 kg (10.7% Earth)'},\n",
       " {'Profile': 'Moons', 'Value': '2 (Phobos & Deimos)'},\n",
       " {'Profile': 'Orbit Distance', 'Value': '227,943,824 km (1.52 AU)'},\n",
       " {'Profile': 'Orbit Period', 'Value': '687 days (1.9 years)'},\n",
       " {'Profile': 'Surface Temperature', 'Value': '-153 to 20 °C'},\n",
       " {'Profile': 'First Record', 'Value': '2nd millennium BC'},\n",
       " {'Profile': 'Recorded By', 'Value': 'Egyptian astronomers'}]"
      ]
     },
     "execution_count": 10,
     "metadata": {},
     "output_type": "execute_result"
    }
   ],
   "source": [
    "i = 0\n",
    "dataset = []\n",
    "while i < len(df):\n",
    "    datarow = {}\n",
    "    datarow['Profile'] = df['Profile'][i]\n",
    "    datarow['Value'] = df['Value'][i]\n",
    "    dataset.append(datarow)\n",
    "    i += 1\n",
    "\n",
    "dataset\n",
    "    "
   ]
  },
  {
   "cell_type": "code",
   "execution_count": 11,
   "metadata": {},
   "outputs": [
    {
     "data": {
      "text/plain": [
       "'<table border=\"1\" class=\"dataframe\">\\n  <thead>\\n    <tr style=\"text-align: right;\">\\n      <th></th>\\n      <th>Profile</th>\\n      <th>Value</th>\\n    </tr>\\n  </thead>\\n  <tbody>\\n    <tr>\\n      <th>0</th>\\n      <td>Equatorial Diameter</td>\\n      <td>6,792 km</td>\\n    </tr>\\n    <tr>\\n      <th>1</th>\\n      <td>Polar Diameter</td>\\n      <td>6,752 km</td>\\n    </tr>\\n    <tr>\\n      <th>2</th>\\n      <td>Mass</td>\\n      <td>6.42 x 10^23 kg (10.7% Earth)</td>\\n    </tr>\\n    <tr>\\n      <th>3</th>\\n      <td>Moons</td>\\n      <td>2 (Phobos &amp; Deimos)</td>\\n    </tr>\\n    <tr>\\n      <th>4</th>\\n      <td>Orbit Distance</td>\\n      <td>227,943,824 km (1.52 AU)</td>\\n    </tr>\\n    <tr>\\n      <th>5</th>\\n      <td>Orbit Period</td>\\n      <td>687 days (1.9 years)</td>\\n    </tr>\\n    <tr>\\n      <th>6</th>\\n      <td>Surface Temperature</td>\\n      <td>-153 to 20 °C</td>\\n    </tr>\\n    <tr>\\n      <th>7</th>\\n      <td>First Record</td>\\n      <td>2nd millennium BC</td>\\n    </tr>\\n    <tr>\\n      <th>8</th>\\n      <td>Recorded By</td>\\n      <td>Egyptian astronomers</td>\\n    </tr>\\n  </tbody>\\n</table>'"
      ]
     },
     "execution_count": 11,
     "metadata": {},
     "output_type": "execute_result"
    }
   ],
   "source": [
    "html_table = df.to_html()\n",
    "html_table"
   ]
  },
  {
   "cell_type": "code",
   "execution_count": 12,
   "metadata": {},
   "outputs": [
    {
     "data": {
      "text/plain": [
       "'<table border=\"1\" class=\"dataframe\">  <thead>    <tr style=\"text-align: right;\">      <th></th>      <th>Profile</th>      <th>Value</th>    </tr>  </thead>  <tbody>    <tr>      <th>0</th>      <td>Equatorial Diameter</td>      <td>6,792 km</td>    </tr>    <tr>      <th>1</th>      <td>Polar Diameter</td>      <td>6,752 km</td>    </tr>    <tr>      <th>2</th>      <td>Mass</td>      <td>6.42 x 10^23 kg (10.7% Earth)</td>    </tr>    <tr>      <th>3</th>      <td>Moons</td>      <td>2 (Phobos &amp; Deimos)</td>    </tr>    <tr>      <th>4</th>      <td>Orbit Distance</td>      <td>227,943,824 km (1.52 AU)</td>    </tr>    <tr>      <th>5</th>      <td>Orbit Period</td>      <td>687 days (1.9 years)</td>    </tr>    <tr>      <th>6</th>      <td>Surface Temperature</td>      <td>-153 to 20 °C</td>    </tr>    <tr>      <th>7</th>      <td>First Record</td>      <td>2nd millennium BC</td>    </tr>    <tr>      <th>8</th>      <td>Recorded By</td>      <td>Egyptian astronomers</td>    </tr>  </tbody></table>'"
      ]
     },
     "execution_count": 12,
     "metadata": {},
     "output_type": "execute_result"
    }
   ],
   "source": [
    "html_table.replace('\\n', '')"
   ]
  },
  {
   "cell_type": "code",
   "execution_count": 13,
   "metadata": {},
   "outputs": [],
   "source": [
    "df.to_html('mars_profile.html')"
   ]
  },
  {
   "cell_type": "code",
   "execution_count": 15,
   "metadata": {},
   "outputs": [
    {
     "data": {
      "text/plain": [
       "[{'title': 'Cerberus Hemisphere ',\n",
       "  'img_url': 'http://astropedia.astrogeology.usgs.gov/download/Mars/Viking/cerberus_enhanced.tif/full.jpg'},\n",
       " {'title': 'Schiaparelli Hemisphere ',\n",
       "  'img_url': 'http://astropedia.astrogeology.usgs.gov/download/Mars/Viking/schiaparelli_enhanced.tif/full.jpg'},\n",
       " {'title': 'Syrtis Major Hemisphere ',\n",
       "  'img_url': 'http://astropedia.astrogeology.usgs.gov/download/Mars/Viking/syrtis_major_enhanced.tif/full.jpg'},\n",
       " {'title': 'Valles Marineris Hemisphere ',\n",
       "  'img_url': 'http://astropedia.astrogeology.usgs.gov/download/Mars/Viking/valles_marineris_enhanced.tif/full.jpg'}]"
      ]
     },
     "execution_count": 15,
     "metadata": {},
     "output_type": "execute_result"
    }
   ],
   "source": [
    "    url = \"https://astrogeology.usgs.gov/search/results?q=hemisphere+enhanced&k1=target&v1=Mars\"\n",
    "    browser.visit(url)\n",
    "\n",
    "    html = browser.html\n",
    "    soup = BeautifulSoup(html, 'html.parser')\n",
    "\n",
    "    div = soup.find_all('div', class_='description')\n",
    "    links = []\n",
    "    targeturl = 'https://astrogeology.usgs.gov'\n",
    "    for d in div:\n",
    "        h = d.find('a')\n",
    "        link = targeturl + h['href']\n",
    "        links.append(link)\n",
    "    #print(link)\n",
    "\n",
    "    hemisphere_image_urls = []\n",
    "\n",
    "    img_url = {}\n",
    "\n",
    "    for x in range(4):\n",
    "        dict = {}\n",
    "\n",
    "        browser.visit(links[x])\n",
    "        html = browser.html\n",
    "        soup = BeautifulSoup(html, 'html.parser')\n",
    "    \n",
    "        h2 = soup.find('h2', class_='title')\n",
    "        div = soup.find('div', class_='downloads')\n",
    "        img_urls = div.find_all('a')\n",
    "\n",
    "        dict['title']= h2.text.replace('Enhanced', '')\n",
    "        dict['img_url'] = img_urls[0]['href']\n",
    "        hemisphere_image_urls.append(dict)\n",
    "\n",
    "\n",
    "    \n",
    "hemisphere_image_urls\n"
   ]
  },
  {
   "cell_type": "code",
   "execution_count": null,
   "metadata": {},
   "outputs": [],
   "source": []
  }
 ],
 "metadata": {
  "kernelspec": {
   "display_name": "Python 3",
   "language": "python",
   "name": "python3"
  },
  "language_info": {
   "codemirror_mode": {
    "name": "ipython",
    "version": 3
   },
   "file_extension": ".py",
   "mimetype": "text/x-python",
   "name": "python",
   "nbconvert_exporter": "python",
   "pygments_lexer": "ipython3",
   "version": "3.6.5"
  },
  "varInspector": {
   "cols": {
    "lenName": 16,
    "lenType": 16,
    "lenVar": 40
   },
   "kernels_config": {
    "python": {
     "delete_cmd_postfix": "",
     "delete_cmd_prefix": "del ",
     "library": "var_list.py",
     "varRefreshCmd": "print(var_dic_list())"
    },
    "r": {
     "delete_cmd_postfix": ") ",
     "delete_cmd_prefix": "rm(",
     "library": "var_list.r",
     "varRefreshCmd": "cat(var_dic_list()) "
    }
   },
   "types_to_exclude": [
    "module",
    "function",
    "builtin_function_or_method",
    "instance",
    "_Feature"
   ],
   "window_display": false
  }
 },
 "nbformat": 4,
 "nbformat_minor": 2
}
